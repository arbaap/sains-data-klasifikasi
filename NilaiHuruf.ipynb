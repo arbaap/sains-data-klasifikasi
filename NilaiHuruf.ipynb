{
  "cells": [
    {
      "cell_type": "markdown",
      "metadata": {},
      "source": [
        "# Nilai Huruf"
      ]
    },
    {
      "cell_type": "code",
      "execution_count": 1,
      "metadata": {
        "id": "8RX6C4UyHRcN"
      },
      "outputs": [],
      "source": [
        "import pandas as pd\n"
      ]
    },
    {
      "cell_type": "code",
      "execution_count": 2,
      "metadata": {
        "id": "nRETG0KIINil"
      },
      "outputs": [
        {
          "data": {
            "text/html": [
              "<div>\n",
              "<style scoped>\n",
              "    .dataframe tbody tr th:only-of-type {\n",
              "        vertical-align: middle;\n",
              "    }\n",
              "\n",
              "    .dataframe tbody tr th {\n",
              "        vertical-align: top;\n",
              "    }\n",
              "\n",
              "    .dataframe thead th {\n",
              "        text-align: right;\n",
              "    }\n",
              "</style>\n",
              "<table border=\"1\" class=\"dataframe\">\n",
              "  <thead>\n",
              "    <tr style=\"text-align: right;\">\n",
              "      <th></th>\n",
              "      <th>NIM</th>\n",
              "      <th>Angkatan</th>\n",
              "      <th>Kode MK</th>\n",
              "      <th>SKS</th>\n",
              "      <th>Nama Mata Kuliah</th>\n",
              "      <th>Periode Semester</th>\n",
              "      <th>Nilai Huruf</th>\n",
              "    </tr>\n",
              "  </thead>\n",
              "  <tbody>\n",
              "    <tr>\n",
              "      <th>0</th>\n",
              "      <td>2.054297e+08</td>\n",
              "      <td>20051</td>\n",
              "      <td>KP8700</td>\n",
              "      <td>2.0</td>\n",
              "      <td>Kerja Praktek</td>\n",
              "      <td>20122</td>\n",
              "      <td>NaN</td>\n",
              "    </tr>\n",
              "    <tr>\n",
              "      <th>1</th>\n",
              "      <td>2.054297e+08</td>\n",
              "      <td>20051</td>\n",
              "      <td>KM8800</td>\n",
              "      <td>1.0</td>\n",
              "      <td>Komprehensif</td>\n",
              "      <td>20122</td>\n",
              "      <td>NaN</td>\n",
              "    </tr>\n",
              "    <tr>\n",
              "      <th>2</th>\n",
              "      <td>2.054297e+08</td>\n",
              "      <td>20051</td>\n",
              "      <td>TA8800</td>\n",
              "      <td>4.0</td>\n",
              "      <td>Tugas AkhirSkripsi</td>\n",
              "      <td>20122</td>\n",
              "      <td>NaN</td>\n",
              "    </tr>\n",
              "    <tr>\n",
              "      <th>3</th>\n",
              "      <td>2.067001e+08</td>\n",
              "      <td>20061</td>\n",
              "      <td>705101</td>\n",
              "      <td>2.0</td>\n",
              "      <td>AlQuran Dan Ilmu Tafsir</td>\n",
              "      <td>20061</td>\n",
              "      <td>A</td>\n",
              "    </tr>\n",
              "    <tr>\n",
              "      <th>4</th>\n",
              "      <td>2.067001e+08</td>\n",
              "      <td>20061</td>\n",
              "      <td>705104</td>\n",
              "      <td>2.0</td>\n",
              "      <td>Bahasa Arab I</td>\n",
              "      <td>20061</td>\n",
              "      <td>A</td>\n",
              "    </tr>\n",
              "    <tr>\n",
              "      <th>...</th>\n",
              "      <td>...</td>\n",
              "      <td>...</td>\n",
              "      <td>...</td>\n",
              "      <td>...</td>\n",
              "      <td>...</td>\n",
              "      <td>...</td>\n",
              "      <td>...</td>\n",
              "    </tr>\n",
              "    <tr>\n",
              "      <th>192031</th>\n",
              "      <td>1.237050e+09</td>\n",
              "      <td>20231</td>\n",
              "      <td>201004-705-02-013</td>\n",
              "      <td>2.0</td>\n",
              "      <td>Fisika Dasar</td>\n",
              "      <td>20231</td>\n",
              "      <td>NaN</td>\n",
              "    </tr>\n",
              "    <tr>\n",
              "      <th>192032</th>\n",
              "      <td>1.237050e+09</td>\n",
              "      <td>20231</td>\n",
              "      <td>201004-705-02-014</td>\n",
              "      <td>1.0</td>\n",
              "      <td>Praktikum Fisika Dasar</td>\n",
              "      <td>20231</td>\n",
              "      <td>NaN</td>\n",
              "    </tr>\n",
              "    <tr>\n",
              "      <th>192033</th>\n",
              "      <td>1.237050e+09</td>\n",
              "      <td>20231</td>\n",
              "      <td>201004-705-03-001</td>\n",
              "      <td>2.0</td>\n",
              "      <td>Olah Raga</td>\n",
              "      <td>20231</td>\n",
              "      <td>NaN</td>\n",
              "    </tr>\n",
              "    <tr>\n",
              "      <th>192034</th>\n",
              "      <td>1.237050e+09</td>\n",
              "      <td>20231</td>\n",
              "      <td>201004-705-03-011</td>\n",
              "      <td>NaN</td>\n",
              "      <td>Praktek Tilawah</td>\n",
              "      <td>20231</td>\n",
              "      <td>NaN</td>\n",
              "    </tr>\n",
              "    <tr>\n",
              "      <th>192035</th>\n",
              "      <td>1.237050e+09</td>\n",
              "      <td>20231</td>\n",
              "      <td>201004-705-02-002</td>\n",
              "      <td>1.0</td>\n",
              "      <td>Kewarganegaraan</td>\n",
              "      <td>20231</td>\n",
              "      <td>NaN</td>\n",
              "    </tr>\n",
              "  </tbody>\n",
              "</table>\n",
              "<p>192036 rows × 7 columns</p>\n",
              "</div>"
            ],
            "text/plain": [
              "                 NIM  Angkatan            Kode MK  SKS   \n",
              "0       2.054297e+08     20051             KP8700  2.0  \\\n",
              "1       2.054297e+08     20051             KM8800  1.0   \n",
              "2       2.054297e+08     20051             TA8800  4.0   \n",
              "3       2.067001e+08     20061             705101  2.0   \n",
              "4       2.067001e+08     20061             705104  2.0   \n",
              "...              ...       ...                ...  ...   \n",
              "192031  1.237050e+09     20231  201004-705-02-013  2.0   \n",
              "192032  1.237050e+09     20231  201004-705-02-014  1.0   \n",
              "192033  1.237050e+09     20231  201004-705-03-001  2.0   \n",
              "192034  1.237050e+09     20231  201004-705-03-011  NaN   \n",
              "192035  1.237050e+09     20231  201004-705-02-002  1.0   \n",
              "\n",
              "               Nama Mata Kuliah  Periode Semester Nilai Huruf  \n",
              "0                 Kerja Praktek             20122         NaN  \n",
              "1                  Komprehensif             20122         NaN  \n",
              "2            Tugas AkhirSkripsi             20122         NaN  \n",
              "3       AlQuran Dan Ilmu Tafsir             20061           A  \n",
              "4                 Bahasa Arab I             20061           A  \n",
              "...                         ...               ...         ...  \n",
              "192031             Fisika Dasar             20231         NaN  \n",
              "192032   Praktikum Fisika Dasar             20231         NaN  \n",
              "192033                Olah Raga             20231         NaN  \n",
              "192034          Praktek Tilawah             20231         NaN  \n",
              "192035          Kewarganegaraan             20231         NaN  \n",
              "\n",
              "[192036 rows x 7 columns]"
            ]
          },
          "execution_count": 2,
          "metadata": {},
          "output_type": "execute_result"
        }
      ],
      "source": [
        "url = \"https://drive.google.com/uc?export=download&id=1bAu31pKhF-kAYq2ncCveSloH-NLg83aU\"\n",
        "df = pd.read_csv(url)\n",
        "df"
      ]
    },
    {
      "cell_type": "code",
      "execution_count": 3,
      "metadata": {
        "id": "fQxPZl39IRFD"
      },
      "outputs": [],
      "source": [
        "df = df.dropna()"
      ]
    },
    {
      "cell_type": "code",
      "execution_count": 4,
      "metadata": {
        "colab": {
          "base_uri": "https://localhost:8080/"
        },
        "id": "xI7kjKQIITgo",
        "outputId": "4b36f0a1-af53-4792-b2a1-e2c4c74aa56a"
      },
      "outputs": [
        {
          "name": "stderr",
          "output_type": "stream",
          "text": [
            "C:\\Users\\arbaa\\AppData\\Local\\Temp\\ipykernel_14984\\3742831306.py:1: SettingWithCopyWarning: \n",
            "A value is trying to be set on a copy of a slice from a DataFrame.\n",
            "Try using .loc[row_indexer,col_indexer] = value instead\n",
            "\n",
            "See the caveats in the documentation: https://pandas.pydata.org/pandas-docs/stable/user_guide/indexing.html#returning-a-view-versus-a-copy\n",
            "  df['Nilai Huruf'] = df['Nilai Huruf'].astype('category').cat.codes\n"
          ]
        }
      ],
      "source": [
        "df['Nilai Huruf'] = df['Nilai Huruf'].astype('category').cat.codes"
      ]
    },
    {
      "cell_type": "code",
      "execution_count": 5,
      "metadata": {
        "colab": {
          "base_uri": "https://localhost:8080/"
        },
        "id": "sIfaaFHbJlTR",
        "outputId": "e44318ed-d7e9-44b3-a0e2-5963c81d268e"
      },
      "outputs": [
        {
          "name": "stdout",
          "output_type": "stream",
          "text": [
            "\n",
            "5 Baris Pertama Dataset (Hanya Nilai Huruf 'A'):\n",
            "    Angkatan Kode MK             Nama Mata Kuliah\n",
            "3      20061  705101      AlQuran Dan Ilmu Tafsir\n",
            "4      20061  705104                Bahasa Arab I\n",
            "13     20061  705111               Praktik Ibadah\n",
            "17     20061  705216  English Communication Skill\n",
            "18     20061  705211       Hadits dan Ilmu Hadits\n",
            "\n",
            "Total Data dengan Nilai Huruf 'A': 67599\n"
          ]
        }
      ],
      "source": [
        "df_a_only = df[df[\"Nilai Huruf\"] == 0]\n",
        "\n",
        "result_df = df_a_only[\n",
        "    [\n",
        "        \"Angkatan\",\n",
        "        \"Kode MK\",\n",
        "        \"Nama Mata Kuliah\",\n",
        "    ]\n",
        "]\n",
        "\n",
        "print(\"\\n5 Baris Pertama Dataset (Hanya Nilai Huruf 'A'):\")\n",
        "print(result_df.head())\n",
        "\n",
        "total_data_a = df_a_only.shape[0]\n",
        "\n",
        "print(f\"\\nTotal Data dengan Nilai Huruf 'A': {total_data_a}\")"
      ]
    },
    {
      "cell_type": "code",
      "execution_count": 6,
      "metadata": {},
      "outputs": [
        {
          "name": "stdout",
          "output_type": "stream",
          "text": [
            "\n",
            "5 Baris Pertama Dataset (Hanya Nilai Huruf 'B'):\n",
            "    Angkatan Kode MK                          Nama Mata Kuliah\n",
            "5      20061  705102                          Bahasa Indonesia\n",
            "6      20061  705103                            Bahasa Inggris\n",
            "10     20061  705110  Pendidikan Pancasila dan Kewarganegaraan\n",
            "12     20061  705109                    Pengetahuan Lingkungan\n",
            "19     20061  705213      Ilmu Budaya Dasar  Ilmu Sosial Dasar\n",
            "\n",
            "Total Data dengan Nilai Huruf 'B': 67978\n"
          ]
        }
      ],
      "source": [
        "df_b_only = df[df[\"Nilai Huruf\"] == 1]\n",
        "\n",
        "result_df = df_b_only[\n",
        "    [\n",
        "        \"Angkatan\",\n",
        "        \"Kode MK\",\n",
        "        \"Nama Mata Kuliah\",\n",
        "    ]\n",
        "]\n",
        "\n",
        "print(\"\\n5 Baris Pertama Dataset (Hanya Nilai Huruf 'B'):\")\n",
        "print(result_df.head())\n",
        "\n",
        "total_data_b = df_b_only.shape[0]\n",
        "\n",
        "print(f\"\\nTotal Data dengan Nilai Huruf 'B': {total_data_b}\")"
      ]
    },
    {
      "cell_type": "code",
      "execution_count": 7,
      "metadata": {},
      "outputs": [
        {
          "name": "stdout",
          "output_type": "stream",
          "text": [
            "\n",
            "5 Baris Pertama Dataset (Hanya Nilai Huruf 'C'):\n",
            "    Angkatan Kode MK               Nama Mata Kuliah\n",
            "7      20061  705106                   Fisika Dasar\n",
            "9      20061  705108                    Kimia Dasar\n",
            "11     20061  705107  Pengantar Teknologi Informasi\n",
            "14     20061  705219      Algoritma dan Pemrograman\n",
            "16     20061  705212                 Bahasa Arab II\n",
            "\n",
            "Total Data dengan Nilai Huruf 'C': 17199\n"
          ]
        }
      ],
      "source": [
        "df_c_only = df[df[\"Nilai Huruf\"] == 2]\n",
        "\n",
        "result_df = df_c_only[\n",
        "    [\n",
        "        \"Angkatan\",\n",
        "        \"Kode MK\",\n",
        "        \"Nama Mata Kuliah\",\n",
        "    ]\n",
        "]\n",
        "\n",
        "print(\"\\n5 Baris Pertama Dataset (Hanya Nilai Huruf 'C'):\")\n",
        "print(result_df.head())\n",
        "\n",
        "total_data_c = df_c_only.shape[0]\n",
        "\n",
        "print(f\"\\nTotal Data dengan Nilai Huruf 'C': {total_data_c}\")"
      ]
    },
    {
      "cell_type": "code",
      "execution_count": 8,
      "metadata": {},
      "outputs": [
        {
          "name": "stdout",
          "output_type": "stream",
          "text": [
            "\n",
            "5 Baris Pertama Dataset (Hanya Nilai Huruf 'D'):\n",
            "     Angkatan Kode MK Nama Mata Kuliah\n",
            "8       20061  705105       Kalkulus I\n",
            "15      20061  705217   Aljabar Linier\n",
            "34      20061  705436   Metode Numerik\n",
            "149     20061  705106     Fisika Dasar\n",
            "220     20061  705106     Fisika Dasar\n",
            "\n",
            "Total Data dengan Nilai Huruf 'D': 2680\n"
          ]
        }
      ],
      "source": [
        "df_d_only = df[df[\"Nilai Huruf\"] == 3]\n",
        "\n",
        "result_df = df_d_only[\n",
        "    [\n",
        "        \"Angkatan\",\n",
        "        \"Kode MK\",\n",
        "        \"Nama Mata Kuliah\",\n",
        "    ]\n",
        "]\n",
        "\n",
        "print(\"\\n5 Baris Pertama Dataset (Hanya Nilai Huruf 'D'):\")\n",
        "print(result_df.head())\n",
        "\n",
        "total_data_d = df_d_only.shape[0]\n",
        "\n",
        "print(f\"\\nTotal Data dengan Nilai Huruf 'D': {total_data_d}\")"
      ]
    },
    {
      "cell_type": "code",
      "execution_count": 9,
      "metadata": {},
      "outputs": [],
      "source": [
        "import os\n",
        "\n",
        "df_a_only = df[df[\"Nilai Huruf\"] == 0]\n",
        "df_b_only = df[df[\"Nilai Huruf\"] == 1]\n",
        "df_c_only = df[df[\"Nilai Huruf\"] == 2]\n",
        "df_d_only = df[df[\"Nilai Huruf\"] == 3]\n",
        "\n",
        "output_folder = \"output/nilai_huruf\"\n",
        "os.makedirs(output_folder, exist_ok=True)\n",
        "\n",
        "output_path_a = os.path.join(output_folder, \"output_nilai_huruf_a.csv\")\n",
        "output_path_b = os.path.join(output_folder, \"output_nilai_huruf_b.csv\")\n",
        "output_path_c = os.path.join(output_folder, \"output_nilai_huruf_c.csv\")\n",
        "output_path_d = os.path.join(output_folder, \"output_nilai_huruf_d.csv\")\n",
        "\n",
        "df_a_only_output = df_a_only[[\"Angkatan\", \"Kode MK\", \"Nama Mata Kuliah\"]].reset_index(\n",
        "    drop=True\n",
        ")\n",
        "df_a_only_output.to_csv(output_path_a, index=False)\n",
        "\n",
        "df_b_only_output = df_b_only[[\"Angkatan\", \"Kode MK\", \"Nama Mata Kuliah\"]].reset_index(\n",
        "    drop=True\n",
        ")\n",
        "df_b_only_output.to_csv(output_path_b, index=False)\n",
        "\n",
        "df_c_only_output = df_c_only[[\"Angkatan\", \"Kode MK\", \"Nama Mata Kuliah\"]].reset_index(\n",
        "    drop=True\n",
        ")\n",
        "df_c_only_output.to_csv(output_path_c, index=False)\n",
        "\n",
        "df_d_only_output = df_d_only[[\"Angkatan\", \"Kode MK\", \"Nama Mata Kuliah\"]].reset_index(\n",
        "    drop=True\n",
        ")\n",
        "df_d_only_output.to_csv(output_path_d, index=False)\n",
        "\n",
        "\n",
        "\n",
        "# %%"
      ]
    },
    {
      "cell_type": "markdown",
      "metadata": {},
      "source": [
        "## Decision Tree"
      ]
    },
    {
      "cell_type": "code",
      "execution_count": 10,
      "metadata": {},
      "outputs": [
        {
          "name": "stderr",
          "output_type": "stream",
          "text": [
            "C:\\Users\\arbaa\\AppData\\Local\\Temp\\ipykernel_14984\\316175819.py:10: SettingWithCopyWarning: \n",
            "A value is trying to be set on a copy of a slice from a DataFrame.\n",
            "Try using .loc[row_indexer,col_indexer] = value instead\n",
            "\n",
            "See the caveats in the documentation: https://pandas.pydata.org/pandas-docs/stable/user_guide/indexing.html#returning-a-view-versus-a-copy\n",
            "  df[\"Angkatan\"] = le_angkatan.fit_transform(df[\"Angkatan\"])\n",
            "C:\\Users\\arbaa\\AppData\\Local\\Temp\\ipykernel_14984\\316175819.py:11: SettingWithCopyWarning: \n",
            "A value is trying to be set on a copy of a slice from a DataFrame.\n",
            "Try using .loc[row_indexer,col_indexer] = value instead\n",
            "\n",
            "See the caveats in the documentation: https://pandas.pydata.org/pandas-docs/stable/user_guide/indexing.html#returning-a-view-versus-a-copy\n",
            "  df[\"Kode MK\"] = le_kode_mk.fit_transform(df[\"Kode MK\"])\n",
            "C:\\Users\\arbaa\\AppData\\Local\\Temp\\ipykernel_14984\\316175819.py:12: SettingWithCopyWarning: \n",
            "A value is trying to be set on a copy of a slice from a DataFrame.\n",
            "Try using .loc[row_indexer,col_indexer] = value instead\n",
            "\n",
            "See the caveats in the documentation: https://pandas.pydata.org/pandas-docs/stable/user_guide/indexing.html#returning-a-view-versus-a-copy\n",
            "  df[\"Nama Mata Kuliah\"] = le_nama_mk.fit_transform(df[\"Nama Mata Kuliah\"])\n"
          ]
        },
        {
          "name": "stdout",
          "output_type": "stream",
          "text": [
            "\n",
            "Results for Decision Tree:\n",
            "Accuracy: 0.58\n",
            "Classification Report:\n",
            "               precision    recall  f1-score   support\n",
            "\n",
            "           0       0.63      0.65      0.64     13579\n",
            "           1       0.55      0.68      0.61     13665\n",
            "           2       0.39      0.21      0.28      3369\n",
            "           3       0.29      0.04      0.07       569\n",
            "           4       0.48      0.08      0.13      1863\n",
            "           5       0.00      0.00      0.00        47\n",
            "\n",
            "    accuracy                           0.58     33092\n",
            "   macro avg       0.39      0.28      0.29     33092\n",
            "weighted avg       0.56      0.58      0.55     33092\n",
            "\n"
          ]
        }
      ],
      "source": [
        "from sklearn.model_selection import train_test_split\n",
        "from sklearn.tree import DecisionTreeClassifier\n",
        "from sklearn.metrics import accuracy_score, classification_report\n",
        "from sklearn import preprocessing\n",
        "\n",
        "le_angkatan = preprocessing.LabelEncoder()\n",
        "le_kode_mk = preprocessing.LabelEncoder()\n",
        "le_nama_mk = preprocessing.LabelEncoder()\n",
        "\n",
        "df[\"Angkatan\"] = le_angkatan.fit_transform(df[\"Angkatan\"])\n",
        "df[\"Kode MK\"] = le_kode_mk.fit_transform(df[\"Kode MK\"])\n",
        "df[\"Nama Mata Kuliah\"] = le_nama_mk.fit_transform(df[\"Nama Mata Kuliah\"])\n",
        "\n",
        "X = df[[\"Angkatan\", \"Kode MK\", \"Nama Mata Kuliah\"]]\n",
        "y = df[\"Nilai Huruf\"]\n",
        "\n",
        "X_train, X_test, y_train, y_test = train_test_split(\n",
        "    X, y, test_size=0.2, random_state=42\n",
        ")\n",
        "\n",
        "clf = DecisionTreeClassifier(random_state=42)\n",
        "\n",
        "clf.fit(X_train, y_train)\n",
        "\n",
        "y_pred = clf.predict(X_test)\n",
        "\n",
        "accuracy = accuracy_score(y_test, y_pred)\n",
        "classification_rep = classification_report(y_test, y_pred)\n",
        "\n",
        "print(\"\\nResults for Decision Tree:\")\n",
        "print(f\"Accuracy: {accuracy:.2f}\")\n",
        "print(\"Classification Report:\\n\", classification_rep)"
      ]
    },
    {
      "cell_type": "markdown",
      "metadata": {},
      "source": [
        "## K-Nearest Neighbors (KNN)"
      ]
    },
    {
      "cell_type": "code",
      "execution_count": 11,
      "metadata": {},
      "outputs": [
        {
          "name": "stderr",
          "output_type": "stream",
          "text": [
            "C:\\Users\\arbaa\\AppData\\Local\\Temp\\ipykernel_14984\\3478718404.py:7: SettingWithCopyWarning: \n",
            "A value is trying to be set on a copy of a slice from a DataFrame.\n",
            "Try using .loc[row_indexer,col_indexer] = value instead\n",
            "\n",
            "See the caveats in the documentation: https://pandas.pydata.org/pandas-docs/stable/user_guide/indexing.html#returning-a-view-versus-a-copy\n",
            "  df[\"Angkatan\"] = le_angkatan.fit_transform(df[\"Angkatan\"])\n",
            "C:\\Users\\arbaa\\AppData\\Local\\Temp\\ipykernel_14984\\3478718404.py:8: SettingWithCopyWarning: \n",
            "A value is trying to be set on a copy of a slice from a DataFrame.\n",
            "Try using .loc[row_indexer,col_indexer] = value instead\n",
            "\n",
            "See the caveats in the documentation: https://pandas.pydata.org/pandas-docs/stable/user_guide/indexing.html#returning-a-view-versus-a-copy\n",
            "  df[\"Kode MK\"] = le_kode_mk.fit_transform(df[\"Kode MK\"])\n",
            "C:\\Users\\arbaa\\AppData\\Local\\Temp\\ipykernel_14984\\3478718404.py:9: SettingWithCopyWarning: \n",
            "A value is trying to be set on a copy of a slice from a DataFrame.\n",
            "Try using .loc[row_indexer,col_indexer] = value instead\n",
            "\n",
            "See the caveats in the documentation: https://pandas.pydata.org/pandas-docs/stable/user_guide/indexing.html#returning-a-view-versus-a-copy\n",
            "  df[\"Nama Mata Kuliah\"] = le_nama_mk.fit_transform(df[\"Nama Mata Kuliah\"])\n"
          ]
        },
        {
          "name": "stdout",
          "output_type": "stream",
          "text": [
            "\n",
            "Results for K-Nearest Neighbors (KNN):\n",
            "Accuracy: 0.53\n",
            "Classification Report:\n",
            "               precision    recall  f1-score   support\n",
            "\n",
            "           0       0.56      0.65      0.60     13579\n",
            "           1       0.54      0.57      0.55     13665\n",
            "           2       0.32      0.21      0.25      3369\n",
            "           3       0.21      0.04      0.07       569\n",
            "           4       0.30      0.09      0.14      1863\n",
            "           5       0.02      0.02      0.02        47\n",
            "\n",
            "    accuracy                           0.53     33092\n",
            "   macro avg       0.33      0.26      0.27     33092\n",
            "weighted avg       0.51      0.53      0.51     33092\n",
            "\n"
          ]
        }
      ],
      "source": [
        "from sklearn.neighbors import KNeighborsClassifier\n",
        "\n",
        "le_angkatan = preprocessing.LabelEncoder()\n",
        "le_kode_mk = preprocessing.LabelEncoder()\n",
        "le_nama_mk = preprocessing.LabelEncoder()\n",
        "\n",
        "df[\"Angkatan\"] = le_angkatan.fit_transform(df[\"Angkatan\"])\n",
        "df[\"Kode MK\"] = le_kode_mk.fit_transform(df[\"Kode MK\"])\n",
        "df[\"Nama Mata Kuliah\"] = le_nama_mk.fit_transform(df[\"Nama Mata Kuliah\"])\n",
        "\n",
        "X = df[[\"Angkatan\", \"Kode MK\", \"Nama Mata Kuliah\"]]\n",
        "y = df[\"Nilai Huruf\"]\n",
        "\n",
        "X_train, X_test, y_train, y_test = train_test_split(\n",
        "    X, y, test_size=0.2, random_state=42\n",
        ")\n",
        "\n",
        "knn_model = KNeighborsClassifier()\n",
        "knn_model.fit(X_train, y_train)\n",
        "\n",
        "predictions_knn = knn_model.predict(X_test)\n",
        "\n",
        "accuracy_knn = accuracy_score(y_test, predictions_knn)\n",
        "classification_report_result_knn = classification_report(y_test, predictions_knn)\n",
        "\n",
        "print(\"\\nResults for K-Nearest Neighbors (KNN):\")\n",
        "print(f\"Accuracy: {accuracy_knn:.2f}\")\n",
        "print(\"Classification Report:\\n\", classification_report_result_knn)"
      ]
    },
    {
      "cell_type": "code",
      "execution_count": 12,
      "metadata": {},
      "outputs": [],
      "source": [
        "# import matplotlib.pyplot as plt\n",
        "\n",
        "# df_a = df[df[\"Nilai Huruf\"] == 0]\n",
        "# df_b = df[df[\"Nilai Huruf\"] == 1]\n",
        "# df_c = df[df[\"Nilai Huruf\"] == 2]\n",
        "# df_d = df[df[\"Nilai Huruf\"] == 3]\n",
        "\n",
        "# count_a = len(df_a)\n",
        "# count_b = len(df_b)\n",
        "# count_c = len(df_c)\n",
        "# count_d = len(df_d)\n",
        "\n",
        "# categories = [\"A\", \"B\", \"C\", \"D\"]\n",
        "# counts = [count_a, count_b, count_c, count_d]\n",
        "\n",
        "# plt.bar(categories, counts, color=[\"green\", \"blue\", \"orange\", \"red\"])\n",
        "\n",
        "# for i, count in enumerate(counts):\n",
        "#     plt.text(i, count + 0.1, str(count), ha=\"center\", va=\"bottom\")\n",
        "\n",
        "# plt.xlabel(\"Nilai Huruf\")\n",
        "# plt.ylabel(\"Jumlah Mahasiswa\")\n",
        "# plt.title(\"Jumlah Mahasiswa berdasarkan Nilai Huruf\")\n",
        "# plt.show()"
      ]
    },
    {
      "cell_type": "code",
      "execution_count": 13,
      "metadata": {},
      "outputs": [],
      "source": [
        "# categories = [\"A\", \"B\", \"C\", \"D\"]\n",
        "# years = df[\"Angkatan\"].unique()  \n",
        "\n",
        "\n",
        "# fig, axs = plt.subplots(len(years), 1, figsize=(10, 5 * len(years)))\n",
        "\n",
        "# for i, year in enumerate(years):\n",
        "#     df_year = df[df[\"Angkatan\"] == year]\n",
        "\n",
        "#     counts = [len(df_year[df_year[\"Nilai Huruf\"] == j]) for j in range(len(categories))]\n",
        "\n",
        "#     axs[i].bar(categories, counts, color=[\"green\", \"blue\", \"orange\", \"red\"])\n",
        "\n",
        "#     for j, count in enumerate(counts):\n",
        "#         axs[i].text(j, count + 0.1, str(count), ha=\"center\", va=\"bottom\")\n",
        "        \n",
        "        \n",
        "#     axs[i].set_xlabel(\"Nilai Huruf\")\n",
        "#     axs[i].set_ylabel(\"Jumlah Mahasiswa\")\n",
        "#     axs[i].set_title(f\"Jumlah Mahasiswa berdasarkan Nilai Huruf (Angkatan {year})\")\n",
        "\n",
        "# plt.tight_layout()\n",
        "# plt.show()"
      ]
    }
  ],
  "metadata": {
    "colab": {
      "provenance": []
    },
    "kernelspec": {
      "display_name": "Python 3",
      "name": "python3"
    },
    "language_info": {
      "codemirror_mode": {
        "name": "ipython",
        "version": 3
      },
      "file_extension": ".py",
      "mimetype": "text/x-python",
      "name": "python",
      "nbconvert_exporter": "python",
      "pygments_lexer": "ipython3",
      "version": "3.11.3"
    }
  },
  "nbformat": 4,
  "nbformat_minor": 0
}
