{
 "cells": [
  {
   "cell_type": "code",
   "execution_count": 1,
   "metadata": {},
   "outputs": [],
   "source": [
    "import pandas as pd"
   ]
  },
  {
   "cell_type": "code",
   "execution_count": 2,
   "metadata": {},
   "outputs": [],
   "source": [
    "url = \"https://drive.google.com/uc?export=download&id=1bAu31pKhF-kAYq2ncCveSloH-NLg83aU\"\n",
    "df = pd.read_csv(url)"
   ]
  },
  {
   "cell_type": "code",
   "execution_count": 3,
   "metadata": {},
   "outputs": [],
   "source": [
    "target_angkatan = 20201"
   ]
  },
  {
   "cell_type": "code",
   "execution_count": 4,
   "metadata": {},
   "outputs": [],
   "source": [
    "df_angkatan_20201 = df[df[\"Angkatan\"] == target_angkatan]"
   ]
  },
  {
   "cell_type": "code",
   "execution_count": 5,
   "metadata": {},
   "outputs": [],
   "source": [
    "df_angkatan_20201 = df_angkatan_20201.drop_duplicates(subset=\"NIM\").reset_index(\n",
    "    drop=True\n",
    ")\n"
   ]
  },
  {
   "cell_type": "code",
   "execution_count": 8,
   "metadata": {},
   "outputs": [
    {
     "name": "stdout",
     "output_type": "stream",
     "text": [
      "Data berdasarkan Angkatan 20201:\n",
      "           NIM  Periode Semester  Angkatan\n",
      "0   1207050001             20201     20201\n",
      "1   1207050002             20201     20201\n",
      "2   1207050003             20201     20201\n",
      "3   1207050004             20201     20201\n",
      "4   1207050005             20201     20201\n",
      "..         ...               ...       ...\n",
      "144 1207050145             20201     20201\n",
      "145 1207050146             20201     20201\n",
      "146 1207050147             20201     20201\n",
      "147 1207050148             20201     20201\n",
      "148 1207050149             20202     20201\n",
      "\n",
      "[149 rows x 3 columns]\n",
      "\n",
      "Total Data berdasarkan Angkatan 20201: 149\n"
     ]
    }
   ],
   "source": [
    "pd.set_option(\"display.float_format\", \"{:.0f}\".format)\n",
    "\n",
    "\n",
    "print(f\"Data berdasarkan Angkatan {target_angkatan}:\")\n",
    "print(df_angkatan_20201[[\"NIM\", \"Periode Semester\", \"Angkatan\"]])\n",
    "\n",
    "total_data_angkatan_20201 = df_angkatan_20201.shape[0]\n",
    "print(\n",
    "    f\"\\nTotal Data berdasarkan Angkatan {target_angkatan}: {total_data_angkatan_20201}\"\n",
    ")"
   ]
  },
  {
   "cell_type": "code",
   "execution_count": 39,
   "metadata": {},
   "outputs": [
    {
     "name": "stdout",
     "output_type": "stream",
     "text": [
      "Accuracy: 1.0\n",
      "Classification Report:\n",
      "               precision    recall  f1-score   support\n",
      "\n",
      "       20061       1.00      1.00      1.00        23\n",
      "       20071       1.00      1.00      1.00        38\n",
      "       20081       1.00      1.00      1.00        61\n",
      "       20091       1.00      1.00      1.00        29\n",
      "       20101       1.00      1.00      1.00        35\n",
      "       20111       1.00      1.00      1.00        31\n",
      "       20121       1.00      1.00      1.00        32\n",
      "       20131       1.00      1.00      1.00        43\n",
      "       20141       1.00      1.00      1.00        35\n",
      "       20151       1.00      1.00      1.00        31\n",
      "       20161       1.00      1.00      1.00        47\n",
      "       20171       1.00      1.00      1.00        17\n",
      "       20181       1.00      1.00      1.00        23\n",
      "       20191       1.00      1.00      1.00        26\n",
      "       20201       1.00      1.00      1.00        19\n",
      "       20211       1.00      1.00      1.00        32\n",
      "       20221       1.00      1.00      1.00        28\n",
      "       20231       1.00      1.00      1.00        29\n",
      "\n",
      "    accuracy                           1.00       579\n",
      "   macro avg       1.00      1.00      1.00       579\n",
      "weighted avg       1.00      1.00      1.00       579\n",
      "\n"
     ]
    }
   ],
   "source": [
    "from sklearn.model_selection import train_test_split\n",
    "from sklearn.tree import DecisionTreeClassifier\n",
    "from sklearn.metrics import accuracy_score, classification_report\n",
    "\n",
    "\n",
    "df_all_angkatan = df.drop_duplicates(subset=\"NIM\").reset_index(drop=True)\n",
    "\n",
    "features_all_angkatan = df_all_angkatan[[\"NIM\", \"Periode Semester\"]]\n",
    "target_all_angkatan = df_all_angkatan[\"Angkatan\"]\n",
    "\n",
    "(\n",
    "    X_train_all_angkatan,\n",
    "    X_test_all_angkatan,\n",
    "    y_train_all_angkatan,\n",
    "    y_test_all_angkatan,\n",
    ") = train_test_split(\n",
    "    features_all_angkatan, target_all_angkatan, test_size=0.2, random_state=42\n",
    ")\n",
    "\n",
    "model_all_angkatan = DecisionTreeClassifier()\n",
    "model_all_angkatan.fit(X_train_all_angkatan, y_train_all_angkatan)\n",
    "\n",
    "predictions_all_angkatan = model_all_angkatan.predict(X_test_all_angkatan)\n",
    "\n",
    "accuracy_all_angkatan = accuracy_score(y_test_all_angkatan, predictions_all_angkatan)\n",
    "classification_report_result_all_angkatan = classification_report(\n",
    "    y_test_all_angkatan, predictions_all_angkatan\n",
    ")\n",
    "\n",
    "print(f\"Accuracy: {accuracy_all_angkatan}\")\n",
    "print(\"Classification Report:\\n\", classification_report_result_all_angkatan)\n",
    "\n",
    "\n"
   ]
  }
 ],
 "metadata": {
  "kernelspec": {
   "display_name": "Python 3",
   "language": "python",
   "name": "python3"
  },
  "language_info": {
   "codemirror_mode": {
    "name": "ipython",
    "version": 3
   },
   "file_extension": ".py",
   "mimetype": "text/x-python",
   "name": "python",
   "nbconvert_exporter": "python",
   "pygments_lexer": "ipython3",
   "version": "3.11.3"
  }
 },
 "nbformat": 4,
 "nbformat_minor": 2
}
