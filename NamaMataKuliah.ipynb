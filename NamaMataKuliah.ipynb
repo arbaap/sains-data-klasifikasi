{
 "cells": [
  {
   "cell_type": "code",
   "execution_count": 39,
   "metadata": {},
   "outputs": [],
   "source": [
    "import pandas as pd\n",
    "\n",
    "pd.set_option(\"display.float_format\", \"{:.0f}\".format)"
   ]
  },
  {
   "cell_type": "code",
   "execution_count": 40,
   "metadata": {},
   "outputs": [],
   "source": [
    "url = \"https://drive.google.com/uc?export=download&id=1bAu31pKhF-kAYq2ncCveSloH-NLg83aU\"\n",
    "df = pd.read_csv(url)\n",
    "\n"
   ]
  },
  {
   "cell_type": "code",
   "execution_count": 41,
   "metadata": {},
   "outputs": [],
   "source": [
    "df = df.dropna()"
   ]
  },
  {
   "cell_type": "code",
   "execution_count": 42,
   "metadata": {},
   "outputs": [],
   "source": [
    "mata_kuliah_target = \"Pengantar Informatika\"\n",
    "nilai_huruf_target = \"A\"\n",
    "tahun_angkatan_target = 20201"
   ]
  },
  {
   "cell_type": "code",
   "execution_count": 43,
   "metadata": {},
   "outputs": [],
   "source": [
    "df_target_mata_kuliah = df[\n",
    "    (df[\"Nama Mata Kuliah\"] == mata_kuliah_target)\n",
    "    & (df[\"Nilai Huruf\"] == nilai_huruf_target)\n",
    "    & (df[\"Angkatan\"] == tahun_angkatan_target)\n",
    "]\n"
   ]
  },
  {
   "cell_type": "code",
   "execution_count": 44,
   "metadata": {},
   "outputs": [
    {
     "name": "stdout",
     "output_type": "stream",
     "text": [
      "\n",
      "5 Baris Pertama Dataset (Mata Kuliah 'Pengantar Informatika' dan Nilai Huruf 'A'):\n",
      "          NIM  Angkatan Nilai Huruf\n",
      "0  1207050003     20201           A\n",
      "1  1207050004     20201           A\n",
      "2  1207050005     20201           A\n",
      "3  1207050006     20201           A\n",
      "4  1207050007     20201           A\n",
      "..        ...       ...         ...\n",
      "94 1207050141     20201           A\n",
      "95 1207050144     20201           A\n",
      "96 1207050145     20201           A\n",
      "97 1207050147     20201           A\n",
      "98 1207050148     20201           A\n",
      "\n",
      "[99 rows x 3 columns]\n"
     ]
    }
   ],
   "source": [
    "result_df = df_target_mata_kuliah[[\"NIM\", \"Angkatan\", \"Nilai Huruf\"]].reset_index(\n",
    "    drop=True\n",
    ")\n",
    "\n",
    "print(\n",
    "    f\"\\n5 Baris Pertama Dataset (Mata Kuliah '{mata_kuliah_target}' dan Nilai Huruf '{nilai_huruf_target}'):\"\n",
    ")\n",
    "print(result_df)"
   ]
  },
  {
   "cell_type": "code",
   "execution_count": 45,
   "metadata": {},
   "outputs": [
    {
     "name": "stdout",
     "output_type": "stream",
     "text": [
      "Total Mahasiswa yang mendapatkan nilai 'A' pada mata kuliah 'Pengantar Informatika' dan tahun angkatan 20201: 99\n"
     ]
    }
   ],
   "source": [
    "total_mahasiswa = len(df_target_mata_kuliah)\n",
    "print(\n",
    "    f\"Total Mahasiswa yang mendapatkan nilai 'A' pada mata kuliah '{mata_kuliah_target}' dan tahun angkatan {tahun_angkatan_target}: {total_mahasiswa}\"\n",
    ")"
   ]
  }
 ],
 "metadata": {
  "kernelspec": {
   "display_name": "Python 3",
   "language": "python",
   "name": "python3"
  },
  "language_info": {
   "codemirror_mode": {
    "name": "ipython",
    "version": 3
   },
   "file_extension": ".py",
   "mimetype": "text/x-python",
   "name": "python",
   "nbconvert_exporter": "python",
   "pygments_lexer": "ipython3",
   "version": "3.11.3"
  }
 },
 "nbformat": 4,
 "nbformat_minor": 2
}
