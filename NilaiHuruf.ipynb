{
  "cells": [
    {
      "cell_type": "code",
      "execution_count": 2,
      "metadata": {
        "id": "8RX6C4UyHRcN"
      },
      "outputs": [],
      "source": [
        "import pandas as pd\n"
      ]
    },
    {
      "cell_type": "code",
      "execution_count": 3,
      "metadata": {
        "id": "nRETG0KIINil"
      },
      "outputs": [],
      "source": [
        "url = \"https://drive.google.com/uc?export=download&id=1bAu31pKhF-kAYq2ncCveSloH-NLg83aU\"\n",
        "df = pd.read_csv(url)"
      ]
    },
    {
      "cell_type": "code",
      "execution_count": 4,
      "metadata": {
        "id": "fQxPZl39IRFD"
      },
      "outputs": [],
      "source": [
        "df = df.dropna()"
      ]
    },
    {
      "cell_type": "code",
      "execution_count": 5,
      "metadata": {
        "colab": {
          "base_uri": "https://localhost:8080/"
        },
        "id": "xI7kjKQIITgo",
        "outputId": "4b36f0a1-af53-4792-b2a1-e2c4c74aa56a"
      },
      "outputs": [],
      "source": [
        "df['Nilai Huruf'] = df['Nilai Huruf'].astype('category').cat.codes"
      ]
    },
    {
      "cell_type": "code",
      "execution_count": 16,
      "metadata": {
        "colab": {
          "base_uri": "https://localhost:8080/"
        },
        "id": "sIfaaFHbJlTR",
        "outputId": "e44318ed-d7e9-44b3-a0e2-5963c81d268e"
      },
      "outputs": [
        {
          "name": "stdout",
          "output_type": "stream",
          "text": [
            "\n",
            "5 Baris Pertama Dataset (Hanya Nilai Huruf 'A'):\n",
            "    Angkatan Kode MK             Nama Mata Kuliah\n",
            "3      20061  705101      AlQuran Dan Ilmu Tafsir\n",
            "4      20061  705104                Bahasa Arab I\n",
            "13     20061  705111               Praktik Ibadah\n",
            "17     20061  705216  English Communication Skill\n",
            "18     20061  705211       Hadits dan Ilmu Hadits\n",
            "\n",
            "Total Data dengan Nilai Huruf 'A': 67599\n"
          ]
        }
      ],
      "source": [
        "df_a_only = df[df[\"Nilai Huruf\"] == 0]\n",
        "\n",
        "result_df = df_a_only[\n",
        "    [\n",
        "        \"Angkatan\",\n",
        "        \"Kode MK\",\n",
        "        \"Nama Mata Kuliah\",\n",
        "    ]\n",
        "]\n",
        "\n",
        "print(\"\\n5 Baris Pertama Dataset (Hanya Nilai Huruf 'A'):\")\n",
        "print(result_df.head())\n",
        "\n",
        "total_data_a = df_a_only.shape[0]\n",
        "\n",
        "print(f\"\\nTotal Data dengan Nilai Huruf 'A': {total_data_a}\")"
      ]
    },
    {
      "cell_type": "code",
      "execution_count": 18,
      "metadata": {},
      "outputs": [
        {
          "name": "stdout",
          "output_type": "stream",
          "text": [
            "\n",
            "5 Baris Pertama Dataset (Hanya Nilai Huruf 'B'):\n",
            "    Angkatan Kode MK                          Nama Mata Kuliah\n",
            "5      20061  705102                          Bahasa Indonesia\n",
            "6      20061  705103                            Bahasa Inggris\n",
            "10     20061  705110  Pendidikan Pancasila dan Kewarganegaraan\n",
            "12     20061  705109                    Pengetahuan Lingkungan\n",
            "19     20061  705213      Ilmu Budaya Dasar  Ilmu Sosial Dasar\n",
            "\n",
            "Total Data dengan Nilai Huruf 'B': 67978\n"
          ]
        }
      ],
      "source": [
        "df_b_only = df[df[\"Nilai Huruf\"] == 1]\n",
        "\n",
        "result_df = df_b_only[\n",
        "    [\n",
        "        \"Angkatan\",\n",
        "        \"Kode MK\",\n",
        "        \"Nama Mata Kuliah\",\n",
        "    ]\n",
        "]\n",
        "\n",
        "print(\"\\n5 Baris Pertama Dataset (Hanya Nilai Huruf 'B'):\")\n",
        "print(result_df.head())\n",
        "\n",
        "total_data_b = df_b_only.shape[0]\n",
        "\n",
        "print(f\"\\nTotal Data dengan Nilai Huruf 'B': {total_data_b}\")"
      ]
    },
    {
      "cell_type": "code",
      "execution_count": 19,
      "metadata": {},
      "outputs": [
        {
          "name": "stdout",
          "output_type": "stream",
          "text": [
            "\n",
            "5 Baris Pertama Dataset (Hanya Nilai Huruf 'C'):\n",
            "    Angkatan Kode MK               Nama Mata Kuliah\n",
            "7      20061  705106                   Fisika Dasar\n",
            "9      20061  705108                    Kimia Dasar\n",
            "11     20061  705107  Pengantar Teknologi Informasi\n",
            "14     20061  705219      Algoritma dan Pemrograman\n",
            "16     20061  705212                 Bahasa Arab II\n",
            "\n",
            "Total Data dengan Nilai Huruf 'C': 17199\n"
          ]
        }
      ],
      "source": [
        "df_c_only = df[df[\"Nilai Huruf\"] == 2]\n",
        "\n",
        "result_df = df_c_only[\n",
        "    [\n",
        "        \"Angkatan\",\n",
        "        \"Kode MK\",\n",
        "        \"Nama Mata Kuliah\",\n",
        "    ]\n",
        "]\n",
        "\n",
        "print(\"\\n5 Baris Pertama Dataset (Hanya Nilai Huruf 'C'):\")\n",
        "print(result_df.head())\n",
        "\n",
        "total_data_c = df_c_only.shape[0]\n",
        "\n",
        "print(f\"\\nTotal Data dengan Nilai Huruf 'C': {total_data_c}\")"
      ]
    },
    {
      "cell_type": "code",
      "execution_count": 21,
      "metadata": {},
      "outputs": [
        {
          "name": "stdout",
          "output_type": "stream",
          "text": [
            "\n",
            "5 Baris Pertama Dataset (Hanya Nilai Huruf 'D'):\n",
            "     Angkatan Kode MK Nama Mata Kuliah\n",
            "8       20061  705105       Kalkulus I\n",
            "15      20061  705217   Aljabar Linier\n",
            "34      20061  705436   Metode Numerik\n",
            "149     20061  705106     Fisika Dasar\n",
            "220     20061  705106     Fisika Dasar\n",
            "\n",
            "Total Data dengan Nilai Huruf 'D': 2680\n"
          ]
        }
      ],
      "source": [
        "df_d_only = df[df[\"Nilai Huruf\"] == 3]\n",
        "\n",
        "result_df = df_d_only[\n",
        "    [\n",
        "        \"Angkatan\",\n",
        "        \"Kode MK\",\n",
        "        \"Nama Mata Kuliah\",\n",
        "    ]\n",
        "]\n",
        "\n",
        "print(\"\\n5 Baris Pertama Dataset (Hanya Nilai Huruf 'D'):\")\n",
        "print(result_df.head())\n",
        "\n",
        "total_data_d = df_d_only.shape[0]\n",
        "\n",
        "print(f\"\\nTotal Data dengan Nilai Huruf 'D': {total_data_d}\")"
      ]
    },
    {
      "cell_type": "code",
      "execution_count": 20,
      "metadata": {},
      "outputs": [
        {
          "data": {
            "image/png": "[encoded data removed]",
            "text/plain": [
              "<Figure size 640x480 with 1 Axes>"
            ]
          },
          "metadata": {},
          "output_type": "display_data"
        }
      ],
      "source": [
        "# import matplotlib.pyplot as plt\n",
        "\n",
        "# df_a = df[df[\"Nilai Huruf\"] == 0]\n",
        "# df_b = df[df[\"Nilai Huruf\"] == 1]\n",
        "# df_c = df[df[\"Nilai Huruf\"] == 2]\n",
        "# df_d = df[df[\"Nilai Huruf\"] == 3]\n",
        "\n",
        "# count_a = len(df_a)\n",
        "# count_b = len(df_b)\n",
        "# count_c = len(df_c)\n",
        "# count_d = len(df_d)\n",
        "\n",
        "# categories = [\"A\", \"B\", \"C\", \"D\"]\n",
        "# counts = [count_a, count_b, count_c, count_d]\n",
        "\n",
        "# plt.bar(categories, counts, color=[\"green\", \"blue\", \"orange\", \"red\"])\n",
        "\n",
        "# for i, count in enumerate(counts):\n",
        "#     plt.text(i, count + 0.1, str(count), ha=\"center\", va=\"bottom\")\n",
        "\n",
        "# plt.xlabel(\"Nilai Huruf\")\n",
        "# plt.ylabel(\"Jumlah Mahasiswa\")\n",
        "# plt.title(\"Jumlah Mahasiswa berdasarkan Nilai Huruf\")\n",
        "# plt.show()"
      ]
    },
    {
      "cell_type": "code",
      "execution_count": 11,
      "metadata": {},
      "outputs": [],
      "source": [
        "# categories = [\"A\", \"B\", \"C\", \"D\"]\n",
        "# years = df[\"Angkatan\"].unique()  \n",
        "\n",
        "\n",
        "# fig, axs = plt.subplots(len(years), 1, figsize=(10, 5 * len(years)))\n",
        "\n",
        "# for i, year in enumerate(years):\n",
        "#     df_year = df[df[\"Angkatan\"] == year]\n",
        "\n",
        "#     counts = [len(df_year[df_year[\"Nilai Huruf\"] == j]) for j in range(len(categories))]\n",
        "\n",
        "#     axs[i].bar(categories, counts, color=[\"green\", \"blue\", \"orange\", \"red\"])\n",
        "\n",
        "#     for j, count in enumerate(counts):\n",
        "#         axs[i].text(j, count + 0.1, str(count), ha=\"center\", va=\"bottom\")\n",
        "        \n",
        "        \n",
        "#     axs[i].set_xlabel(\"Nilai Huruf\")\n",
        "#     axs[i].set_ylabel(\"Jumlah Mahasiswa\")\n",
        "#     axs[i].set_title(f\"Jumlah Mahasiswa berdasarkan Nilai Huruf (Angkatan {year})\")\n",
        "\n",
        "# plt.tight_layout()\n",
        "# plt.show()"
      ]
    }
  ],
  "metadata": {
    "colab": {
      "provenance": []
    },
    "kernelspec": {
      "display_name": "Python 3",
      "name": "python3"
    },
    "language_info": {
      "codemirror_mode": {
        "name": "ipython",
        "version": 3
      },
      "file_extension": ".py",
      "mimetype": "text/x-python",
      "name": "python",
      "nbconvert_exporter": "python",
      "pygments_lexer": "ipython3",
      "version": "3.11.3"
    }
  },
  "nbformat": 4,
  "nbformat_minor": 0
}
