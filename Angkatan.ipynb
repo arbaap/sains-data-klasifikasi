{
 "cells": [
  {
   "cell_type": "code",
   "execution_count": 1,
   "metadata": {},
   "outputs": [],
   "source": [
    "import pandas as pd"
   ]
  },
  {
   "cell_type": "code",
   "execution_count": 2,
   "metadata": {},
   "outputs": [],
   "source": [
    "url = \"https://drive.google.com/uc?export=download&id=1bAu31pKhF-kAYq2ncCveSloH-NLg83aU\"\n",
    "df = pd.read_csv(url)"
   ]
  },
  {
   "cell_type": "code",
   "execution_count": 3,
   "metadata": {},
   "outputs": [],
   "source": [
    "target_angkatan = 20201"
   ]
  },
  {
   "cell_type": "code",
   "execution_count": 19,
   "metadata": {},
   "outputs": [],
   "source": [
    "df_angkatan_20201 = df[df[\"Angkatan\"] == target_angkatan]"
   ]
  },
  {
   "cell_type": "code",
   "execution_count": 24,
   "metadata": {},
   "outputs": [],
   "source": [
    "df_angkatan_20201 = df_angkatan_20201.drop_duplicates(subset=\"NIM\").reset_index(\n",
    "    drop=True\n",
    ")\n"
   ]
  },
  {
   "cell_type": "code",
   "execution_count": 30,
   "metadata": {},
   "outputs": [
    {
     "name": "stdout",
     "output_type": "stream",
     "text": [
      "Data berdasarkan Angkatan 20201:\n",
      "           NIM  Periode Semester  Angkatan\n",
      "0   1207050001             20201     20201\n",
      "1   1207050002             20201     20201\n",
      "2   1207050003             20201     20201\n",
      "3   1207050004             20201     20201\n",
      "4   1207050005             20201     20201\n",
      "..         ...               ...       ...\n",
      "144 1207050145             20201     20201\n",
      "145 1207050146             20201     20201\n",
      "146 1207050147             20201     20201\n",
      "147 1207050148             20201     20201\n",
      "148 1207050149             20202     20201\n",
      "\n",
      "[149 rows x 3 columns]\n",
      "\n",
      "Total Data berdasarkan Angkatan 20201: 149\n"
     ]
    }
   ],
   "source": [
    "pd.set_option(\"display.float_format\", \"{:.0f}\".format)\n",
    "\n",
    "\n",
    "print(f\"Data berdasarkan Angkatan {target_angkatan}:\")\n",
    "print(df_angkatan_20201[[\"NIM\", \"Periode Semester\", \"Angkatan\"]])\n",
    "\n",
    "total_data_angkatan_20201 = df_angkatan_20201.shape[0]\n",
    "print(\n",
    "    f\"\\nTotal Data berdasarkan Angkatan {target_angkatan}: {total_data_angkatan_20201}\"\n",
    ")"
   ]
  }
 ],
 "metadata": {
  "kernelspec": {
   "display_name": "Python 3",
   "language": "python",
   "name": "python3"
  },
  "language_info": {
   "codemirror_mode": {
    "name": "ipython",
    "version": 3
   },
   "file_extension": ".py",
   "mimetype": "text/x-python",
   "name": "python",
   "nbconvert_exporter": "python",
   "pygments_lexer": "ipython3",
   "version": "3.11.3"
  }
 },
 "nbformat": 4,
 "nbformat_minor": 2
}
