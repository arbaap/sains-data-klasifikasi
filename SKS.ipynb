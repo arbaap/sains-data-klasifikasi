{
 "cells": [
  {
   "cell_type": "code",
   "execution_count": 1,
   "metadata": {},
   "outputs": [],
   "source": [
    "import pandas as pd"
   ]
  },
  {
   "cell_type": "code",
   "execution_count": 2,
   "metadata": {},
   "outputs": [],
   "source": [
    "url = \"https://drive.google.com/uc?export=download&id=1bAu31pKhF-kAYq2ncCveSloH-NLg83aU\"\n",
    "df = pd.read_csv(url)"
   ]
  },
  {
   "cell_type": "code",
   "execution_count": 20,
   "metadata": {},
   "outputs": [],
   "source": [
    "unique_sks_classification = df.drop_duplicates(subset=[\"Kode MK\", \"Nama Mata Kuliah\"])[\n",
    "    [\"Kode MK\", \"Nama Mata Kuliah\", \"SKS\"]\n",
    "]\n"
   ]
  },
  {
   "cell_type": "code",
   "execution_count": 21,
   "metadata": {},
   "outputs": [
    {
     "name": "stdout",
     "output_type": "stream",
     "text": [
      "Klasifikasi berdasarkan SKS\n",
      "   SKS  Jumlah Mata Kuliah\n",
      "0  0.0                  13\n",
      "1  1.0                  58\n",
      "2  2.0                 160\n",
      "3  3.0                 141\n",
      "4  4.0                   5\n",
      "5  6.0                   1\n"
     ]
    }
   ],
   "source": [
    "sks_classification = (\n",
    "    unique_sks_classification.groupby(\"SKS\")\n",
    "    .size()\n",
    "    .reset_index(name=\"Jumlah Mata Kuliah\")\n",
    ")\n",
    "print(\"Klasifikasi berdasarkan SKS\")\n",
    "print(sks_classification)\n",
    "\n"
   ]
  },
  {
   "cell_type": "code",
   "execution_count": 22,
   "metadata": {},
   "outputs": [
    {
     "name": "stdout",
     "output_type": "stream",
     "text": [
      "Accuracy: 0.9993230576963132\n",
      "Classification Report:\n",
      "               precision    recall  f1-score   support\n",
      "\n",
      "         0.0       1.00      0.98      0.99      1226\n",
      "         1.0       1.00      1.00      1.00      6893\n",
      "         2.0       1.00      1.00      1.00     18287\n",
      "         3.0       1.00      1.00      1.00     11178\n",
      "         4.0       1.00      1.00      1.00       772\n",
      "         6.0       1.00      1.00      1.00        52\n",
      "\n",
      "    accuracy                           1.00     38408\n",
      "   macro avg       1.00      1.00      1.00     38408\n",
      "weighted avg       1.00      1.00      1.00     38408\n",
      "\n"
     ]
    }
   ],
   "source": [
    "from sklearn.model_selection import train_test_split\n",
    "from sklearn.tree import DecisionTreeClassifier\n",
    "from sklearn.metrics import accuracy_score, classification_report\n",
    "\n",
    "features = df[[\"Kode MK\", \"Nama Mata Kuliah\"]]\n",
    "target = df[\"SKS\"]\n",
    "\n",
    "X_train, X_test, y_train, y_test = train_test_split(\n",
    "    features, target, test_size=0.2, random_state=42\n",
    ")\n",
    "\n",
    "X_train.fillna(X_train.median(), inplace=True)\n",
    "X_test.fillna(X_test.median(), inplace=True)\n",
    "\n",
    "y_train.fillna(y_train.median(), inplace=True)\n",
    "y_test.fillna(y_train.median(), inplace=True)\n",
    "model = DecisionTreeClassifier()\n",
    "model.fit(X_train, y_train)\n",
    "\n",
    "predictions = model.predict(X_test)\n",
    "\n",
    "accuracy = accuracy_score(y_test, predictions)\n",
    "classification_report_result = classification_report(y_test, predictions)\n",
    "\n",
    "print(f\"Accuracy: {accuracy}\")\n",
    "print(\"Classification Report:\\n\", classification_report_result)"
   ]
  }
 ],
 "metadata": {
  "kernelspec": {
   "display_name": "Python 3",
   "language": "python",
   "name": "python3"
  },
  "language_info": {
   "codemirror_mode": {
    "name": "ipython",
    "version": 3
   },
   "file_extension": ".py",
   "mimetype": "text/x-python",
   "name": "python",
   "nbconvert_exporter": "python",
   "pygments_lexer": "ipython3",
   "version": "3.11.3"
  }
 },
 "nbformat": 4,
 "nbformat_minor": 2
}
