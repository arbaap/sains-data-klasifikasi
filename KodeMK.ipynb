{
 "cells": [
  {
   "cell_type": "code",
   "execution_count": 1,
   "metadata": {},
   "outputs": [],
   "source": [
    "import pandas as pd"
   ]
  },
  {
   "cell_type": "code",
   "execution_count": 2,
   "metadata": {},
   "outputs": [],
   "source": [
    "url = \"https://drive.google.com/uc?export=download&id=1bAu31pKhF-kAYq2ncCveSloH-NLg83aU\"\n",
    "df = pd.read_csv(url)"
   ]
  },
  {
   "cell_type": "code",
   "execution_count": 3,
   "metadata": {},
   "outputs": [],
   "source": [
    "kode_mk_starts_with_if = df[\"Kode MK\"].str.startswith(\"IF\")"
   ]
  },
  {
   "cell_type": "code",
   "execution_count": 7,
   "metadata": {},
   "outputs": [],
   "source": [
    "df_if_classified = df[kode_mk_starts_with_if].drop_duplicates(subset=[\"Kode MK\"])"
   ]
  },
  {
   "cell_type": "code",
   "execution_count": 9,
   "metadata": {},
   "outputs": [
    {
     "name": "stdout",
     "output_type": "stream",
     "text": [
      "\n",
      "Hasil Klasifikasi berdasarkan Kode MK yang awalannya IF:\n",
      "      Kode MK                          Nama Mata Kuliah  SKS\n",
      "0      IF8101             Pengantar Teknologi Informasi  2.0\n",
      "1      IF8504                            Sistem Operasi  3.0\n",
      "2      IF8402            Pemrograman Berorientasi Objek  2.0\n",
      "3     IF8402L  Praktikum Pemrograman Berorientasi Objek  1.0\n",
      "4      IF8301               Algoritma dan Struktur Data  2.0\n",
      "..        ...                                       ...  ...\n",
      "176  IF214008                            Sistem Operasi  2.0\n",
      "177  IF217D02                 Pembelajaran Mesin Lanjut  3.0\n",
      "178  IF19102L               Praktikum Dasar Pemrograman  1.0\n",
      "179  IF212003                               Kalkulus II  3.0\n",
      "180  IF212004                        Matematika Diskrit  3.0\n",
      "\n",
      "[181 rows x 3 columns]\n"
     ]
    }
   ],
   "source": [
    "# Tampilkan hasil untuk Kode MK yang awalannya \"IF\"\n",
    "result_df = df_if_classified[[\"Kode MK\", \"Nama Mata Kuliah\", \"SKS\"]].reset_index(\n",
    "    drop=True\n",
    ")\n",
    "print(\"\\nHasil Klasifikasi berdasarkan Kode MK yang awalannya IF:\")\n",
    "print(result_df)"
   ]
  },
  {
   "cell_type": "code",
   "execution_count": 10,
   "metadata": {},
   "outputs": [
    {
     "name": "stdout",
     "output_type": "stream",
     "text": [
      "Total Data berdasarkan Kode MK yang awalannya IF: 181\n"
     ]
    }
   ],
   "source": [
    "total_data = df_if_classified.shape[0]\n",
    "print(f\"Total Data berdasarkan Kode MK yang awalannya IF: {total_data}\")"
   ]
  }
 ],
 "metadata": {
  "kernelspec": {
   "display_name": "Python 3",
   "language": "python",
   "name": "python3"
  },
  "language_info": {
   "codemirror_mode": {
    "name": "ipython",
    "version": 3
   },
   "file_extension": ".py",
   "mimetype": "text/x-python",
   "name": "python",
   "nbconvert_exporter": "python",
   "pygments_lexer": "ipython3",
   "version": "3.11.3"
  }
 },
 "nbformat": 4,
 "nbformat_minor": 2
}
