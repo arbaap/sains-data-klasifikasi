{
 "cells": [
  {
   "cell_type": "code",
   "execution_count": 59,
   "metadata": {},
   "outputs": [],
   "source": [
    "import pandas as pd"
   ]
  },
  {
   "cell_type": "code",
   "execution_count": 60,
   "metadata": {},
   "outputs": [],
   "source": [
    "url = \"https://drive.google.com/uc?export=download&id=1bAu31pKhF-kAYq2ncCveSloH-NLg83aU\"\n",
    "df = pd.read_csv(url)"
   ]
  },
  {
   "cell_type": "code",
   "execution_count": 70,
   "metadata": {},
   "outputs": [],
   "source": [
    "unique_sks_classification = df.drop_duplicates(subset=[\"Kode MK\", \"Nama Mata Kuliah\"])[\n",
    "    [\"Kode MK\", \"Nama Mata Kuliah\", \"SKS\"]\n",
    "]"
   ]
  },
  {
   "cell_type": "code",
   "execution_count": 71,
   "metadata": {},
   "outputs": [
    {
     "name": "stdout",
     "output_type": "stream",
     "text": [
      "Klasifikasi berdasarkan SKS\n",
      "   SKS  Jumlah Mata Kuliah\n",
      "0  0.0                  13\n",
      "1  1.0                  58\n",
      "2  2.0                 160\n",
      "3  3.0                 141\n",
      "4  4.0                   5\n",
      "5  6.0                   1\n"
     ]
    }
   ],
   "source": [
    "sks_classification = (\n",
    "    unique_sks_classification.groupby(\"SKS\")\n",
    "    .size()\n",
    "    .reset_index(name=\"Jumlah Mata Kuliah\")\n",
    ")\n",
    "print(\"Klasifikasi berdasarkan SKS\")\n",
    "print(sks_classification)"
   ]
  }
 ],
 "metadata": {
  "kernelspec": {
   "display_name": "Python 3",
   "language": "python",
   "name": "python3"
  },
  "language_info": {
   "codemirror_mode": {
    "name": "ipython",
    "version": 3
   },
   "file_extension": ".py",
   "mimetype": "text/x-python",
   "name": "python",
   "nbconvert_exporter": "python",
   "pygments_lexer": "ipython3",
   "version": "3.11.3"
  }
 },
 "nbformat": 4,
 "nbformat_minor": 2
}
