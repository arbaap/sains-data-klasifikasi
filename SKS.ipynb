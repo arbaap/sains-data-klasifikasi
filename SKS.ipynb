{
 "cells": [
  {
   "cell_type": "markdown",
   "metadata": {},
   "source": [
    "# SKS"
   ]
  },
  {
   "cell_type": "code",
   "execution_count": 101,
   "metadata": {},
   "outputs": [],
   "source": [
    "import pandas as pd\n",
    "\n",
    "from sklearn.model_selection import train_test_split\n",
    "from sklearn.tree import DecisionTreeClassifier\n",
    "from sklearn.metrics import accuracy_score, classification_report\n",
    "from sklearn.preprocessing import LabelEncoder\n",
    "from sklearn.neighbors import KNeighborsClassifier\n"
   ]
  },
  {
   "cell_type": "code",
   "execution_count": 102,
   "metadata": {},
   "outputs": [
    {
     "data": {
      "text/html": [
       "<div>\n",
       "<style scoped>\n",
       "    .dataframe tbody tr th:only-of-type {\n",
       "        vertical-align: middle;\n",
       "    }\n",
       "\n",
       "    .dataframe tbody tr th {\n",
       "        vertical-align: top;\n",
       "    }\n",
       "\n",
       "    .dataframe thead th {\n",
       "        text-align: right;\n",
       "    }\n",
       "</style>\n",
       "<table border=\"1\" class=\"dataframe\">\n",
       "  <thead>\n",
       "    <tr style=\"text-align: right;\">\n",
       "      <th></th>\n",
       "      <th>NIM</th>\n",
       "      <th>Angkatan</th>\n",
       "      <th>Kode MK</th>\n",
       "      <th>SKS</th>\n",
       "      <th>Nama Mata Kuliah</th>\n",
       "      <th>Periode Semester</th>\n",
       "      <th>Nilai Huruf</th>\n",
       "    </tr>\n",
       "  </thead>\n",
       "  <tbody>\n",
       "    <tr>\n",
       "      <th>0</th>\n",
       "      <td>2.054297e+08</td>\n",
       "      <td>20051</td>\n",
       "      <td>KP8700</td>\n",
       "      <td>2.0</td>\n",
       "      <td>Kerja Praktek</td>\n",
       "      <td>20122</td>\n",
       "      <td>NaN</td>\n",
       "    </tr>\n",
       "    <tr>\n",
       "      <th>1</th>\n",
       "      <td>2.054297e+08</td>\n",
       "      <td>20051</td>\n",
       "      <td>KM8800</td>\n",
       "      <td>1.0</td>\n",
       "      <td>Komprehensif</td>\n",
       "      <td>20122</td>\n",
       "      <td>NaN</td>\n",
       "    </tr>\n",
       "    <tr>\n",
       "      <th>2</th>\n",
       "      <td>2.054297e+08</td>\n",
       "      <td>20051</td>\n",
       "      <td>TA8800</td>\n",
       "      <td>4.0</td>\n",
       "      <td>Tugas AkhirSkripsi</td>\n",
       "      <td>20122</td>\n",
       "      <td>NaN</td>\n",
       "    </tr>\n",
       "    <tr>\n",
       "      <th>3</th>\n",
       "      <td>2.067001e+08</td>\n",
       "      <td>20061</td>\n",
       "      <td>705101</td>\n",
       "      <td>2.0</td>\n",
       "      <td>AlQuran Dan Ilmu Tafsir</td>\n",
       "      <td>20061</td>\n",
       "      <td>A</td>\n",
       "    </tr>\n",
       "    <tr>\n",
       "      <th>4</th>\n",
       "      <td>2.067001e+08</td>\n",
       "      <td>20061</td>\n",
       "      <td>705104</td>\n",
       "      <td>2.0</td>\n",
       "      <td>Bahasa Arab I</td>\n",
       "      <td>20061</td>\n",
       "      <td>A</td>\n",
       "    </tr>\n",
       "    <tr>\n",
       "      <th>...</th>\n",
       "      <td>...</td>\n",
       "      <td>...</td>\n",
       "      <td>...</td>\n",
       "      <td>...</td>\n",
       "      <td>...</td>\n",
       "      <td>...</td>\n",
       "      <td>...</td>\n",
       "    </tr>\n",
       "    <tr>\n",
       "      <th>192031</th>\n",
       "      <td>1.237050e+09</td>\n",
       "      <td>20231</td>\n",
       "      <td>201004-705-02-013</td>\n",
       "      <td>2.0</td>\n",
       "      <td>Fisika Dasar</td>\n",
       "      <td>20231</td>\n",
       "      <td>NaN</td>\n",
       "    </tr>\n",
       "    <tr>\n",
       "      <th>192032</th>\n",
       "      <td>1.237050e+09</td>\n",
       "      <td>20231</td>\n",
       "      <td>201004-705-02-014</td>\n",
       "      <td>1.0</td>\n",
       "      <td>Praktikum Fisika Dasar</td>\n",
       "      <td>20231</td>\n",
       "      <td>NaN</td>\n",
       "    </tr>\n",
       "    <tr>\n",
       "      <th>192033</th>\n",
       "      <td>1.237050e+09</td>\n",
       "      <td>20231</td>\n",
       "      <td>201004-705-03-001</td>\n",
       "      <td>2.0</td>\n",
       "      <td>Olah Raga</td>\n",
       "      <td>20231</td>\n",
       "      <td>NaN</td>\n",
       "    </tr>\n",
       "    <tr>\n",
       "      <th>192034</th>\n",
       "      <td>1.237050e+09</td>\n",
       "      <td>20231</td>\n",
       "      <td>201004-705-03-011</td>\n",
       "      <td>NaN</td>\n",
       "      <td>Praktek Tilawah</td>\n",
       "      <td>20231</td>\n",
       "      <td>NaN</td>\n",
       "    </tr>\n",
       "    <tr>\n",
       "      <th>192035</th>\n",
       "      <td>1.237050e+09</td>\n",
       "      <td>20231</td>\n",
       "      <td>201004-705-02-002</td>\n",
       "      <td>1.0</td>\n",
       "      <td>Kewarganegaraan</td>\n",
       "      <td>20231</td>\n",
       "      <td>NaN</td>\n",
       "    </tr>\n",
       "  </tbody>\n",
       "</table>\n",
       "<p>192036 rows × 7 columns</p>\n",
       "</div>"
      ],
      "text/plain": [
       "                 NIM  Angkatan            Kode MK  SKS   \n",
       "0       2.054297e+08     20051             KP8700  2.0  \\\n",
       "1       2.054297e+08     20051             KM8800  1.0   \n",
       "2       2.054297e+08     20051             TA8800  4.0   \n",
       "3       2.067001e+08     20061             705101  2.0   \n",
       "4       2.067001e+08     20061             705104  2.0   \n",
       "...              ...       ...                ...  ...   \n",
       "192031  1.237050e+09     20231  201004-705-02-013  2.0   \n",
       "192032  1.237050e+09     20231  201004-705-02-014  1.0   \n",
       "192033  1.237050e+09     20231  201004-705-03-001  2.0   \n",
       "192034  1.237050e+09     20231  201004-705-03-011  NaN   \n",
       "192035  1.237050e+09     20231  201004-705-02-002  1.0   \n",
       "\n",
       "               Nama Mata Kuliah  Periode Semester Nilai Huruf  \n",
       "0                 Kerja Praktek             20122         NaN  \n",
       "1                  Komprehensif             20122         NaN  \n",
       "2            Tugas AkhirSkripsi             20122         NaN  \n",
       "3       AlQuran Dan Ilmu Tafsir             20061           A  \n",
       "4                 Bahasa Arab I             20061           A  \n",
       "...                         ...               ...         ...  \n",
       "192031             Fisika Dasar             20231         NaN  \n",
       "192032   Praktikum Fisika Dasar             20231         NaN  \n",
       "192033                Olah Raga             20231         NaN  \n",
       "192034          Praktek Tilawah             20231         NaN  \n",
       "192035          Kewarganegaraan             20231         NaN  \n",
       "\n",
       "[192036 rows x 7 columns]"
      ]
     },
     "execution_count": 102,
     "metadata": {},
     "output_type": "execute_result"
    }
   ],
   "source": [
    "url = \"https://drive.google.com/uc?export=download&id=1bAu31pKhF-kAYq2ncCveSloH-NLg83aU\"\n",
    "df = pd.read_csv(url)\n",
    "df"
   ]
  },
  {
   "cell_type": "code",
   "execution_count": 103,
   "metadata": {},
   "outputs": [],
   "source": [
    "df = df.dropna()\n",
    "\n",
    "label_encoder = LabelEncoder()"
   ]
  },
  {
   "cell_type": "code",
   "execution_count": 104,
   "metadata": {},
   "outputs": [
    {
     "name": "stdout",
     "output_type": "stream",
     "text": [
      "               Kode MK             Nama Mata Kuliah  SKS\n",
      "0               705101      AlQuran Dan Ilmu Tafsir  2.0\n",
      "1               705104                Bahasa Arab I  2.0\n",
      "2               705102             Bahasa Indonesia  2.0\n",
      "3               705103               Bahasa Inggris  2.0\n",
      "4               705106                 Fisika Dasar  3.0\n",
      "..                 ...                          ...  ...\n",
      "335  201004-705-02-010                  Bahasa Arab  2.0\n",
      "336  201004-705-02-011             Bahasa Inggris I  2.0\n",
      "337  201004-705-02-014       Praktikum Fisika Dasar  1.0\n",
      "338  201004-705-01-003  Praktikum Dasar Pemrograman  1.0\n",
      "339  201004-705-02-012            Bahasa Inggris II  2.0\n",
      "\n",
      "[340 rows x 3 columns]\n"
     ]
    }
   ],
   "source": [
    "unique_sks_classification = df.drop_duplicates(subset=[\"Kode MK\", \"Nama Mata Kuliah\"])[\n",
    "    [\"Kode MK\", \"Nama Mata Kuliah\", \"SKS\"]\n",
    "].reset_index(drop=True)\n",
    "\n",
    "print(unique_sks_classification)"
   ]
  },
  {
   "cell_type": "code",
   "execution_count": 105,
   "metadata": {},
   "outputs": [
    {
     "name": "stdout",
     "output_type": "stream",
     "text": [
      "Jumlah dataset SKS\n",
      "   SKS  Jumlah Mata Kuliah\n",
      "0  0.0                  13\n",
      "1  1.0                  52\n",
      "2  2.0                 146\n",
      "3  3.0                 124\n",
      "4  4.0                   4\n",
      "5  6.0                   1\n"
     ]
    }
   ],
   "source": [
    "sks_classification = (\n",
    "    unique_sks_classification.groupby(\"SKS\")\n",
    "    .size()\n",
    "    .reset_index(name=\"Jumlah Mata Kuliah\")\n",
    ")\n",
    "print(\"Jumlah dataset SKS\")\n",
    "print(sks_classification)"
   ]
  },
  {
   "cell_type": "code",
   "execution_count": 106,
   "metadata": {},
   "outputs": [],
   "source": [
    "import os\n",
    "\n",
    "output_folder_sks = \"output/sks\"\n",
    "os.makedirs(output_folder_sks, exist_ok=True)\n",
    "\n",
    "sks_classification_output_path = os.path.join(\n",
    "    output_folder_sks, \"output_sks_classification.csv\"\n",
    ")\n",
    "unique_sks_classification.to_csv(sks_classification_output_path, index=False)"
   ]
  },
  {
   "cell_type": "markdown",
   "metadata": {},
   "source": [
    "## Decision Tree"
   ]
  },
  {
   "cell_type": "code",
   "execution_count": 107,
   "metadata": {},
   "outputs": [
    {
     "name": "stdout",
     "output_type": "stream",
     "text": [
      "\n",
      "Results for Decision Tree\n",
      "Accuracy: 1.0\n",
      "Classification Report:\n",
      "               precision    recall  f1-score   support\n",
      "\n",
      "         0.0       1.00      1.00      1.00       594\n",
      "         1.0       1.00      1.00      1.00      6115\n",
      "         2.0       1.00      1.00      1.00     16196\n",
      "         3.0       1.00      1.00      1.00      9807\n",
      "         4.0       1.00      1.00      1.00       348\n",
      "         6.0       1.00      1.00      1.00        32\n",
      "\n",
      "    accuracy                           1.00     33092\n",
      "   macro avg       1.00      1.00      1.00     33092\n",
      "weighted avg       1.00      1.00      1.00     33092\n",
      "\n"
     ]
    },
    {
     "name": "stderr",
     "output_type": "stream",
     "text": [
      "C:\\Users\\arbaa\\AppData\\Local\\Temp\\ipykernel_6580\\126063611.py:1: SettingWithCopyWarning: \n",
      "A value is trying to be set on a copy of a slice from a DataFrame.\n",
      "Try using .loc[row_indexer,col_indexer] = value instead\n",
      "\n",
      "See the caveats in the documentation: https://pandas.pydata.org/pandas-docs/stable/user_guide/indexing.html#returning-a-view-versus-a-copy\n",
      "  df[\"Nama Mata Kuliah\"] = label_encoder.fit_transform(df[\"Nama Mata Kuliah\"])\n"
     ]
    }
   ],
   "source": [
    "\n",
    "df[\"Nama Mata Kuliah\"] = label_encoder.fit_transform(df[\"Nama Mata Kuliah\"])\n",
    "\n",
    "features_dt = df[[\"Periode Semester\", \"Nama Mata Kuliah\", \"SKS\"]]\n",
    "target_dt = df[\"SKS\"]\n",
    "\n",
    "X_train_dt, X_test_dt, y_train_dt, y_test_dt = train_test_split(\n",
    "    features_dt, target_dt, test_size=0.2, random_state=42\n",
    ")\n",
    "\n",
    "model_dt = DecisionTreeClassifier()\n",
    "model_dt.fit(X_train_dt, y_train_dt)\n",
    "\n",
    "predictions_dt = model_dt.predict(X_test_dt)\n",
    "\n",
    "accuracy_dt = accuracy_score(y_test_dt, predictions_dt)\n",
    "classification_report_dt = classification_report(y_test_dt, predictions_dt)\n",
    "\n",
    "print(\"\\nResults for Decision Tree\")\n",
    "print(f\"Accuracy: {accuracy_dt}\")\n",
    "print(\"Classification Report:\\n\", classification_report_dt)"
   ]
  },
  {
   "cell_type": "markdown",
   "metadata": {},
   "source": [
    "## K-Nearest Neighbors (KNN)"
   ]
  },
  {
   "cell_type": "code",
   "execution_count": 108,
   "metadata": {},
   "outputs": [
    {
     "name": "stderr",
     "output_type": "stream",
     "text": [
      "C:\\Users\\arbaa\\AppData\\Local\\Temp\\ipykernel_6580\\2914567212.py:1: SettingWithCopyWarning: \n",
      "A value is trying to be set on a copy of a slice from a DataFrame.\n",
      "Try using .loc[row_indexer,col_indexer] = value instead\n",
      "\n",
      "See the caveats in the documentation: https://pandas.pydata.org/pandas-docs/stable/user_guide/indexing.html#returning-a-view-versus-a-copy\n",
      "  df[\"Nama Mata Kuliah\"] = label_encoder.fit_transform(df[\"Nama Mata Kuliah\"])\n"
     ]
    },
    {
     "name": "stdout",
     "output_type": "stream",
     "text": [
      "\n",
      "Results for K-Nearest Neighbors (KNN):\n",
      "Accuracy: 0.9998791248640154\n",
      "Classification Report:\n",
      "               precision    recall  f1-score   support\n",
      "\n",
      "         0.0       1.00      1.00      1.00       594\n",
      "         1.0       1.00      1.00      1.00      6115\n",
      "         2.0       1.00      1.00      1.00     16196\n",
      "         3.0       1.00      1.00      1.00      9807\n",
      "         4.0       1.00      1.00      1.00       348\n",
      "         6.0       1.00      1.00      1.00        32\n",
      "\n",
      "    accuracy                           1.00     33092\n",
      "   macro avg       1.00      1.00      1.00     33092\n",
      "weighted avg       1.00      1.00      1.00     33092\n",
      "\n"
     ]
    }
   ],
   "source": [
    "\n",
    "df[\"Nama Mata Kuliah\"] = label_encoder.fit_transform(df[\"Nama Mata Kuliah\"])\n",
    "\n",
    "features_knn = df[[\"Periode Semester\", \"Nama Mata Kuliah\", \"SKS\"]]\n",
    "target_knn = df[\"SKS\"]\n",
    "\n",
    "X_train_knn, X_test_knn, y_train_knn, y_test_knn = train_test_split(\n",
    "    features_knn, target_knn, test_size=0.2, random_state=42\n",
    ")\n",
    "\n",
    "model_knn = KNeighborsClassifier()\n",
    "model_knn.fit(X_train_knn, y_train_knn)\n",
    "\n",
    "predictions_knn = model_knn.predict(X_test_knn)\n",
    "\n",
    "accuracy_knn = accuracy_score(y_test_knn, predictions_knn)\n",
    "classification_report_knn = classification_report(y_test_knn, predictions_knn)\n",
    "\n",
    "print(\"\\nResults for K-Nearest Neighbors (KNN):\")\n",
    "print(f\"Accuracy: {accuracy_knn}\")\n",
    "print(\"Classification Report:\\n\", classification_report_knn)"
   ]
  }
 ],
 "metadata": {
  "kernelspec": {
   "display_name": "Python 3",
   "language": "python",
   "name": "python3"
  },
  "language_info": {
   "codemirror_mode": {
    "name": "ipython",
    "version": 3
   },
   "file_extension": ".py",
   "mimetype": "text/x-python",
   "name": "python",
   "nbconvert_exporter": "python",
   "pygments_lexer": "ipython3",
   "version": "3.11.3"
  }
 },
 "nbformat": 4,
 "nbformat_minor": 2
}
